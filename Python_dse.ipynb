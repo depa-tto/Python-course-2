{
 "cells": [
  {
   "cell_type": "markdown",
   "metadata": {},
   "source": [
    "### computer science part"
   ]
  },
  {
   "cell_type": "markdown",
   "metadata": {},
   "source": [
    "##### variables"
   ]
  },
  {
   "cell_type": "code",
   "execution_count": null,
   "metadata": {},
   "outputs": [],
   "source": [
    "# variable = a container for a value\n",
    "name = 'Antonio' # string: series of characters\n",
    "print('hello ' + name)\n",
    "print(type(name))"
   ]
  },
  {
   "cell_type": "code",
   "execution_count": null,
   "metadata": {},
   "outputs": [],
   "source": [
    "first_name = 'Antonio'\n",
    "last_name = 'DePatto'\n",
    "full_name = first_name + ' ' + last_name\n",
    "print('hello ' + full_name)"
   ]
  },
  {
   "cell_type": "code",
   "execution_count": null,
   "metadata": {},
   "outputs": [],
   "source": [
    "age = 22 # integer\n",
    "age = age + 1 # is equal to: age += 1\n",
    "print(age)\n",
    "print(type(age))\n",
    "\n",
    "# print('your age is: ' + age) --> gives an error back because we can't concatenate due different types of variable\n",
    "# we have a TypeError, so ween to concert the int variable into a string variable\n",
    "print('your age is: ' + str(age))"
   ]
  },
  {
   "cell_type": "code",
   "execution_count": null,
   "metadata": {},
   "outputs": [],
   "source": [
    "# float datatype\n",
    "heigth = 250.5 # floating point numbers\n",
    "print(type(heigth))\n",
    "\n",
    "print('your hiegth is ' + str(heigth) + ' cm')"
   ]
  },
  {
   "cell_type": "code",
   "execution_count": null,
   "metadata": {},
   "outputs": [],
   "source": [
    "# boolean variable\n",
    "\n",
    "human = False\n",
    "print(human)"
   ]
  },
  {
   "cell_type": "code",
   "execution_count": null,
   "metadata": {},
   "outputs": [],
   "source": [
    "# multiple assignment = allows us to assign multiple variable at hte same tine in one line of code\n",
    "\n",
    "name = 'Antonio'\n",
    "age = 22\n",
    "attractive = True\n",
    "\n",
    "name, age, attractive = 'Antonio', 22, True"
   ]
  },
  {
   "cell_type": "code",
   "execution_count": null,
   "metadata": {},
   "outputs": [],
   "source": [
    "# method to work with variables\n",
    "name = 'antonio de patto'\n",
    "print(len(name))\n",
    "print(name.find('a'))\n",
    "\n",
    "print(name.capitalize())\n",
    "print(name.upper())\n",
    "print(name.lower())\n",
    "print(name.isdigit()) # is our string a digit ?\n",
    "print(name.isalpha()) # is not alpha because we have a spaces in name, if there were only letters it would be true\n",
    "print(name.count('o'))\n",
    "print(name.replace('o', 'a'))\n",
    "print(name*3)"
   ]
  },
  {
   "cell_type": "markdown",
   "metadata": {},
   "source": [
    "##### type casting"
   ]
  },
  {
   "cell_type": "code",
   "execution_count": null,
   "metadata": {},
   "outputs": [],
   "source": [
    "# type casting = convert the data type of a value to another data type\n",
    "\n",
    "x = 1 # int\n",
    "y = 2.0 # float, with float we will add a .0 to every int value\n",
    "z = '3' # string\n",
    "\n",
    "print(int(y))\n",
    "\n",
    "print(z*4) # will print 3 four times\n",
    "\n",
    "z = int(z)\n",
    "print(z*3)\n",
    "\n",
    "print('x is : ' + str(x)) # in this case we need type casting, because we need the same type of variable in the print function "
   ]
  },
  {
   "cell_type": "code",
   "execution_count": null,
   "metadata": {},
   "outputs": [],
   "source": [
    "# input in python \n",
    "\n",
    "name = input('what is your name ?: ')\n",
    "print('hello ' + name)\n",
    "\n",
    "# age = input('how old are you? ') # here we have a type error, because we can concatenate only strings with strings\n",
    "# age = age + 1\n",
    "\n",
    "age = int(input('what is your age ? '))\n",
    "print('you are ' + str(age) + ' years old') # we need to cenvert back into string type\n",
    "\n",
    "heigth = float(input('how tall are you ? '))\n",
    "print('you are ' + str(age) + ' years old and ' + str(heigth) + ' cm tall')"
   ]
  },
  {
   "cell_type": "code",
   "execution_count": null,
   "metadata": {},
   "outputs": [],
   "source": [
    "import math\n",
    "pi = 3.14\n",
    "\n",
    "print(round(pi)) # will round the pi number \n",
    "print(math.ceil(pi)) # will round the pi number to the higher number\n",
    "print(math.floor(pi))\n",
    "\n",
    "pi = -3.147\n",
    "print(abs(pi)) # absolute value\n",
    "\n",
    "print(pow(pi, 2)) # power of 2 of pi\n",
    "print(math.sqrt(abs(pi)))\n",
    "\n",
    "x = 1\n",
    "y = 2\n",
    "z = 3\n",
    "\n",
    "print(max(x,y,z))\n",
    "print(min(x,y,z))"
   ]
  },
  {
   "cell_type": "code",
   "execution_count": null,
   "metadata": {},
   "outputs": [],
   "source": [
    "# slicing: create a substring by ectracting elements from another string \n",
    "# indexing : [] or slicing function : ()\n",
    "# [start:stop:step] \n",
    "\n",
    "name = 'antonio de patto'\n",
    "\n",
    "firts_name = name[0:2] # in this case we will not get back 3 letters because THE FIRTS INDEX IS INCLUSIVE AND THE SECOND ONE IS EXCLUSIVE !!!\n",
    "print(firts_name)\n",
    "\n",
    "first_name_1  = name[0:3] # equal to [:3]\n",
    "print(first_name_1)\n",
    "\n",
    "last_name = name[8:16] # the spaces counts, and we say 16 and not 15 because the last index is esclusive !!!\n",
    "print(last_name)\n",
    "\n",
    "last_name_1 = name[8:] # the spaces counts, and we say 16 and not 15 because the last index is esclusive !!!\n",
    "print(last_name_1)\n",
    "\n",
    "funcky_name = name[0:16:2]\n",
    "print(funcky_name)\n",
    "\n",
    "\n",
    "funcky_name_1 = name[::2]\n",
    "print(funcky_name_1)\n",
    "\n",
    "reversed_name = name[::-1] # we are counting backwards\n",
    "print(reversed_name)"
   ]
  },
  {
   "cell_type": "code",
   "execution_count": null,
   "metadata": {},
   "outputs": [],
   "source": [
    "website1 = 'http://google.com' # task: i want to remone from the string the http and the .com part\n",
    "website2 = 'http://wikipedia.com'\n",
    "\n",
    "# slice work as the '[]' operator, but separate each part with a comma\n",
    "slice_ = slice(7, -4)\n",
    "print(website1[slice_])\n",
    "print(website2[slice_])"
   ]
  },
  {
   "cell_type": "code",
   "execution_count": null,
   "metadata": {},
   "outputs": [],
   "source": [
    "# index operator [] = gives access to a sequence's element (str, list, tuples)\n",
    "\n",
    "name = 'antonio de patto'\n",
    "\n",
    "if (name[0].islower()):\n",
    "    name = name.capitalize()\n",
    "print(name) "
   ]
  },
  {
   "cell_type": "code",
   "execution_count": null,
   "metadata": {},
   "outputs": [],
   "source": [
    "first_name = name[:7].upper()\n",
    "print(first_name, end = ' ')\n",
    "\n",
    "last_name = name[8:].upper()\n",
    "print(last_name)\n",
    "\n",
    "last_character = name[-1]\n",
    "print(last_character)"
   ]
  },
  {
   "cell_type": "markdown",
   "metadata": {},
   "source": [
    "##### if statement and loops"
   ]
  },
  {
   "cell_type": "code",
   "execution_count": null,
   "metadata": {},
   "outputs": [],
   "source": [
    "# if statement = a block of code that will execute if it's condition is true\n",
    "\n",
    "age = int(input('what is your age ? '))\n",
    "print('your age is ' + str(age))\n",
    "\n",
    "if age == 100:\n",
    "    print('you are a century old')\n",
    "elif age >= 18:                       # if this condition is true, the if statement will execute the following block of code, otherwise it will be skipped\n",
    "    print('you are an adult')\n",
    "elif age < 0:                         # another if condition to be checked\n",
    "    print('you have not born yet')  \n",
    "else: \n",
    "    print('you are a child')\n"
   ]
  },
  {
   "cell_type": "code",
   "execution_count": null,
   "metadata": {},
   "outputs": [],
   "source": [
    "# logical operator(and, or, not) = used to check if two or more conditional statements are true\n",
    "\n",
    "temp = int(input('what is the temperature outside ?: ')) \n",
    "print('the tempature is ' + str(temp) + ' celsius grade')\n",
    "\n",
    "if temp >= 0 and temp <= 30:   # both condition must be true with the and\n",
    "    print('the temperature is good')\n",
    "elif temp < 0 or temp > 30:\n",
    "    print('the temperature is bad')"
   ]
  },
  {
   "cell_type": "code",
   "execution_count": null,
   "metadata": {},
   "outputs": [],
   "source": [
    "temp = int(input('what is the temperature outside ?: ')) \n",
    "print('the tempature is ' + str(temp) + ' celsius grade')\n",
    "\n",
    "if not(temp >= 0 and temp <= 30):   # both condition must be true with the and\n",
    "     print('the temperature is bad')\n",
    "elif not(temp < 0 or temp > 30):\n",
    "    print('the temperature is good')"
   ]
  },
  {
   "cell_type": "code",
   "execution_count": null,
   "metadata": {},
   "outputs": [],
   "source": [
    "# while loop = a statement that will execute it's block of code, as long as it's condition remains true\n",
    "\n",
    "name = ''\n",
    "\n",
    "while len(name) == 0:\n",
    "    name = input('enter your name')\n",
    "print('hello ' + name)"
   ]
  },
  {
   "cell_type": "code",
   "execution_count": null,
   "metadata": {},
   "outputs": [],
   "source": [
    "name = None\n",
    "\n",
    "while not name:\n",
    "        name = input('enter your name')\n",
    "print('hello ' + name)"
   ]
  },
  {
   "cell_type": "code",
   "execution_count": null,
   "metadata": {},
   "outputs": [],
   "source": [
    "# for loop = a statement that will execute is's block of code a limited amount of times \n",
    "\n",
    "# for loop = limited\n",
    "# while loop = unlimited\n",
    "\n",
    "\n",
    "for i in range(10): # in this case, since python will start counting from zero, we will have 10 numbers from 0 to 9\n",
    "    print(i)"
   ]
  },
  {
   "cell_type": "code",
   "execution_count": null,
   "metadata": {},
   "outputs": [],
   "source": [
    "# we can solve this problem by adding a '+1' in the print brakets\n",
    "for i in range(10): \n",
    "    print(i+1)"
   ]
  },
  {
   "cell_type": "code",
   "execution_count": null,
   "metadata": {},
   "outputs": [],
   "source": [
    "for i in range(50,100+1):  # we have the start and the finish point of the loop, remember that the first number is inclusive, the second on is exclusive\n",
    "    print(i)"
   ]
  },
  {
   "cell_type": "code",
   "execution_count": null,
   "metadata": {},
   "outputs": [],
   "source": [
    "for i in range(50,100+1,2):  # we add a step, counting by 2\n",
    "    print(i)"
   ]
  },
  {
   "cell_type": "code",
   "execution_count": null,
   "metadata": {},
   "outputs": [],
   "source": [
    "for i in 'antonio': # for every i in the string print each letter in the string\n",
    "        print(i)"
   ]
  },
  {
   "cell_type": "code",
   "execution_count": null,
   "metadata": {},
   "outputs": [],
   "source": [
    "import time \n",
    "\n",
    "for seconds in range(10, 0, -1):\n",
    "    print(seconds)\n",
    "    time.sleep(1)\n",
    "print('happy new year')"
   ]
  },
  {
   "cell_type": "code",
   "execution_count": null,
   "metadata": {},
   "outputs": [],
   "source": [
    "# nested loops = the inner loop will finish all of it's iterations before finishing one iteration of the outer loop\n",
    "\n",
    "rows = int(input('how many rows ? '))\n",
    "columns = int(input('how many columns ? '))\n",
    "symbol = input('enter a symbol to use: ')\n",
    "\n",
    "\n",
    "for i in range(rows):\n",
    "    for j in range(columns):  \n",
    "        print(symbol, end = ' ') # without the end we will have n different block of code but not the matrix as we want to be display \n",
    "    print()"
   ]
  },
  {
   "cell_type": "code",
   "execution_count": null,
   "metadata": {},
   "outputs": [],
   "source": [
    "# By default Python‘s print() function ends with a newline.\n",
    "#  Python’s print() function comes with a parameter called ‘end‘. By default, the value of this parameter is ‘\\n’, i.e. the new line character. \n",
    "\n",
    "name = \"Alice\"\n",
    "age = 30\n",
    "print(\"My name is \" + name + \" and I am \" + str(age) + \" years old.\", end= \" \") # so with the end we don't star a new line of code\n",
    "print(\"Nice to meet you!\")"
   ]
  },
  {
   "cell_type": "code",
   "execution_count": null,
   "metadata": {},
   "outputs": [],
   "source": [
    "# loop control statement = change a loops execution from its normal sequence \n",
    "\n",
    "# break = used to terminate the loop entirely\n",
    "# continue = skips to the next iteration of the loop\n",
    "# pass = does nothing, acts as a placeholder\n",
    "\n",
    "while True:\n",
    "    name = input('enter your name: ')\n",
    "    if name != '':\n",
    "        break"
   ]
  },
  {
   "cell_type": "code",
   "execution_count": null,
   "metadata": {},
   "outputs": [],
   "source": [
    "phone_number = '123-456-789'\n",
    "for i in phone_number:\n",
    "    if i == '-':\n",
    "        continue\n",
    "    print(i, end = '')"
   ]
  },
  {
   "cell_type": "code",
   "execution_count": null,
   "metadata": {},
   "outputs": [],
   "source": [
    "for i in range(1,21):\n",
    "    if i == 13:\n",
    "        pass\n",
    "    else:\n",
    "        print(i, end = ' ')"
   ]
  },
  {
   "cell_type": "code",
   "execution_count": null,
   "metadata": {},
   "outputs": [],
   "source": [
    "for i in range(1,21):\n",
    "    if i == 13:\n",
    "        continue\n",
    "    print(i, end = ' ')"
   ]
  },
  {
   "cell_type": "markdown",
   "metadata": {},
   "source": [
    "##### exercises on loop operators"
   ]
  },
  {
   "cell_type": "code",
   "execution_count": null,
   "metadata": {},
   "outputs": [],
   "source": [
    "# print first 10 natural numbers using while loop\n",
    "\n",
    "i = 1\n",
    "while i <= 10:\n",
    "    print(i)\n",
    "    i = i + 1"
   ]
  },
  {
   "cell_type": "code",
   "execution_count": null,
   "metadata": {},
   "outputs": [],
   "source": [
    "print(\"Number Pattern\")\n",
    "\n",
    "for i in range(1, 6):\n",
    "    for j in range(1, i + 1):\n",
    "        print(j, end=' ')\n",
    "    print(\" \")\n",
    "    "
   ]
  },
  {
   "cell_type": "code",
   "execution_count": null,
   "metadata": {},
   "outputs": [],
   "source": [
    "n = 5\n",
    "k = 5\n",
    "for i in range(0,n+1):\n",
    "    for j in range(k-i,0,-1):\n",
    "        print(j,end=' ')\n",
    "    print()"
   ]
  },
  {
   "cell_type": "code",
   "execution_count": null,
   "metadata": {},
   "outputs": [],
   "source": [
    "# calculate the sum of all numbers from 1 to a given number \n",
    "\n",
    "number = int(input('chose a number '))\n",
    "print('your number is: ' + str(number))\n",
    "sum = 0\n",
    "\n",
    "\n",
    "for i in range(0, number+1):\n",
    "    sum = sum + i\n",
    "    print('your sum is: ' + str(sum))"
   ]
  },
  {
   "cell_type": "code",
   "execution_count": null,
   "metadata": {},
   "outputs": [],
   "source": [
    "number = int(input('enter your number: '))\n",
    "prod = 1\n",
    "\n",
    "for i in range(1, 11):\n",
    "    prod = (i * number)\n",
    "    print(prod)\n"
   ]
  },
  {
   "cell_type": "code",
   "execution_count": null,
   "metadata": {},
   "outputs": [],
   "source": [
    "# write a program to display only those numbers from a list that satisfy the following conditions:\n",
    "# The number must be divisible by five\n",
    "# If the number is greater than 150, then skip it and move to the next number\n",
    "# If the number is greater than 500, then stop the loop\n",
    "\n",
    "numbers = [12, 75, 150, 180, 145, 525, 50]\n",
    "\n",
    "for i in numbers:\n",
    "    if i > 500:\n",
    "        break\n",
    "    elif i % 5 == 0 and i <= 150:\n",
    "        print(i)"
   ]
  },
  {
   "cell_type": "code",
   "execution_count": null,
   "metadata": {},
   "outputs": [],
   "source": [
    "# Write a program to count the total number of digits in a number using a while loop.\n",
    "num = 75869\n",
    "count = 0\n",
    "while num != 0:\n",
    "    # floor division rounds the result down to the nearest whole number\n",
    "    # to reduce the last digit from number\n",
    "    num = num // 10\n",
    "\n",
    "    # increment counter by 1\n",
    "    count = count + 1\n",
    "print(\"Total digits are:\", count)\n"
   ]
  },
  {
   "cell_type": "code",
   "execution_count": null,
   "metadata": {},
   "outputs": [],
   "source": [
    "# print list in reverse order using a loop\n",
    "\n",
    "list1 = [10, 20, 30, 40, 50]\n",
    "lenght = len(list1) - 1\n",
    "\n",
    "for i in range(lenght, -1, -1):\n",
    "    print(list1[i])\n",
    "    "
   ]
  },
  {
   "cell_type": "code",
   "execution_count": null,
   "metadata": {},
   "outputs": [],
   "source": [
    "# display numbers from -10 to -1 using for loop\n",
    "\n",
    "for i in range(-10, 0):\n",
    "    print(i)"
   ]
  },
  {
   "cell_type": "code",
   "execution_count": null,
   "metadata": {},
   "outputs": [],
   "source": [
    "# write a program to display all prime numbers within a range\n",
    "\n",
    "start = 25\n",
    "end = 50\n",
    "print(\"Prime numbers between\", start, \"and\", end, \"are:\")\n",
    "\n",
    "for num in range(start, end + 1):\n",
    "    # all prime numbers are greater than 1\n",
    "    # if number is less than or equal to 1, it is not prime\n",
    "    if num > 1:\n",
    "        for i in range(2, num):\n",
    "            # check for factors\n",
    "            if (num % i) == 0:\n",
    "                # not a prime number so break inner loop and\n",
    "                # look for next number\n",
    "                break\n",
    "        else:\n",
    "            print(num)"
   ]
  },
  {
   "cell_type": "code",
   "execution_count": null,
   "metadata": {},
   "outputs": [],
   "source": [
    "# display Fibonacci series up to 10 terms\n",
    "\n",
    "num1 = 0\n",
    "num2 = 1\n",
    "\n",
    "print(\"Fibonacci sequence:\")\n",
    "\n",
    "for i in range(10):\n",
    "    print(num1, end=\"  \")\n",
    "    res = num1 + num2\n",
    "\n",
    "    # update values\n",
    "    num1 = num2\n",
    "    num2 = res"
   ]
  },
  {
   "cell_type": "markdown",
   "metadata": {},
   "source": [
    "##### list"
   ]
  },
  {
   "cell_type": "code",
   "execution_count": null,
   "metadata": {},
   "outputs": [],
   "source": [
    "# list = used to store multiple item in a sigle variable\n",
    "\n",
    "food = ['pizza', 'hamburger', 'hotdog', 'spaghetti']\n",
    "print(food)\n",
    "\n",
    "print(food[0]) # first position\n",
    "\n",
    "food[0] = 'sushi'\n",
    "print(food)\n",
    "\n",
    "for i in food:\n",
    "    print(i)"
   ]
  },
  {
   "cell_type": "code",
   "execution_count": null,
   "metadata": {},
   "outputs": [],
   "source": [
    "food.append('icecream') # append(aggiungere) a new element to the list in the final position\n",
    "for i in food:\n",
    "    print(i)"
   ]
  },
  {
   "cell_type": "code",
   "execution_count": null,
   "metadata": {},
   "outputs": [],
   "source": [
    "food.remove('hotdog')\n",
    "for i in food:\n",
    "    print(i)"
   ]
  },
  {
   "cell_type": "code",
   "execution_count": null,
   "metadata": {},
   "outputs": [],
   "source": [
    "food.pop() # pop will remove the last element\n",
    "for i in food:\n",
    "    print(i)"
   ]
  },
  {
   "cell_type": "code",
   "execution_count": null,
   "metadata": {},
   "outputs": [],
   "source": [
    "food.insert(0, 'cake')\n",
    "for i in food:\n",
    "    print(i)"
   ]
  },
  {
   "cell_type": "code",
   "execution_count": null,
   "metadata": {},
   "outputs": [],
   "source": [
    "food.sort()\n",
    "for i in food:\n",
    "    print(i)"
   ]
  },
  {
   "cell_type": "code",
   "execution_count": null,
   "metadata": {},
   "outputs": [],
   "source": [
    "food.clear() # here we will not get anything back because we clear the list\n",
    "for i in food:\n",
    "    print(i)"
   ]
  },
  {
   "cell_type": "code",
   "execution_count": null,
   "metadata": {},
   "outputs": [],
   "source": [
    "# 2d list = a list of lists\n",
    "\n",
    "drinks = ['coffee', 'soda', 'tea']\n",
    "dinner = ['pizza', 'hamburger', 'hotdog']\n",
    "dessert = ['cake', 'ice cream']\n",
    "\n",
    "food = [drinks, dinner, dessert]\n",
    "print(food[1][0]) # first index for the list i am interested with and the second one will pick the element in index\n"
   ]
  },
  {
   "cell_type": "markdown",
   "metadata": {},
   "source": [
    "##### tuples"
   ]
  },
  {
   "cell_type": "code",
   "execution_count": null,
   "metadata": {},
   "outputs": [],
   "source": [
    "# tuple = collection which is ORDERED and UNCHANGEABLE used to group togheter related data\n",
    "\n",
    "student = ('antonio', '22', 'male')\n",
    "print(student.count('antonio'))\n",
    "print(student.index('male')) # remember that python starts counting from 0 !\n",
    "\n",
    "for i in student:\n",
    "    print(i)\n",
    "\n",
    "if 'antonio' in student:\n",
    "    print('antonio is here')"
   ]
  },
  {
   "cell_type": "markdown",
   "metadata": {},
   "source": [
    "##### sets"
   ]
  },
  {
   "cell_type": "code",
   "execution_count": null,
   "metadata": {},
   "outputs": [],
   "source": [
    "# set = collection which is UNORDERED, UNIDEXED. NO DUPLICATES VALUES!\n",
    "\n",
    "utentils = {'fork', 'spoon', 'spoon', 'knife', 'knife', 'knife'} # indeed when we are going to print the elements present in the sets, they will not be shown in a ordered sense \n",
    "for i in utentils:\n",
    "    print(i)"
   ]
  },
  {
   "cell_type": "code",
   "execution_count": null,
   "metadata": {},
   "outputs": [],
   "source": [
    "utentils.add('napkin')\n",
    "for i in utentils:\n",
    "    print(i)"
   ]
  },
  {
   "cell_type": "code",
   "execution_count": null,
   "metadata": {},
   "outputs": [],
   "source": [
    "utentils.remove('fork')\n",
    "for i in utentils:\n",
    "    print(i)"
   ]
  },
  {
   "cell_type": "code",
   "execution_count": null,
   "metadata": {},
   "outputs": [],
   "source": [
    "dinner_table = utentils.union(dishes) # union between two sets, ad the previous code did \n",
    "for i in dinner_table:\n",
    "    print(i)"
   ]
  },
  {
   "cell_type": "code",
   "execution_count": null,
   "metadata": {},
   "outputs": [],
   "source": [
    "dishes.add('knife')\n",
    "\n",
    "print(utentils.difference(dishes)) # will show what utentils has that dishes doesn't\n",
    "print(dishes.difference(utentils))"
   ]
  },
  {
   "cell_type": "code",
   "execution_count": null,
   "metadata": {},
   "outputs": [],
   "source": [
    "print(utentils.intersection(dishes)) # elements that sets have in common  "
   ]
  },
  {
   "cell_type": "code",
   "execution_count": null,
   "metadata": {},
   "outputs": [],
   "source": [
    "dishes = {'bowl', 'plate', 'cup'}\n",
    "\n",
    "utentils.update(dishes) # within this method we will pass in the set the elements we would like to add\n",
    "for i in utentils:\n",
    "    print(i)"
   ]
  },
  {
   "cell_type": "markdown",
   "metadata": {},
   "source": [
    "##### dictionaries"
   ]
  },
  {
   "cell_type": "code",
   "execution_count": null,
   "metadata": {},
   "outputs": [],
   "source": [
    "# dictionary = a changeable, unordered collection of unique key: value pairs fast because they use hashing, allow us to access a value quickly \n",
    "\n",
    "capitals = {'USA':'Washington DC', \n",
    "            'India': 'New Dehli', \n",
    "            'China': 'Beijing', \n",
    "            'Russia': 'Moscow'}\n",
    "\n",
    "print(capitals['Russia'])\n",
    "print(capitals.get('Germany')) # check to see if there is a key within our dictionary\n",
    "\n",
    "print(capitals.keys())\n",
    "print(capitals.values())\n",
    "print(capitals.items()) # will print the entire dictionary\n",
    "\n",
    "capitals.get('USA')"
   ]
  },
  {
   "cell_type": "code",
   "execution_count": null,
   "metadata": {},
   "outputs": [],
   "source": [
    "# other way to print the dictionary with a for loop\n",
    "for key, value in capitals.items():\n",
    "    print(key, value)"
   ]
  },
  {
   "cell_type": "code",
   "execution_count": null,
   "metadata": {},
   "outputs": [],
   "source": [
    "capitals.update({'Germany': 'Berlin'})\n",
    "capitals.update({'USA': 'Las Vegas'})\n",
    "\n",
    "capitals.pop('China') # pop will remove this key value pair from the dictionary\n",
    "\n",
    "print(capitals.items())"
   ]
  },
  {
   "cell_type": "markdown",
   "metadata": {},
   "source": [
    "##### functions"
   ]
  },
  {
   "cell_type": "code",
   "execution_count": null,
   "metadata": {},
   "outputs": [],
   "source": [
    "# function = a block of code which is executed only when is called\n",
    "\n",
    "def hello(name):\n",
    "    print('hello ' + name)\n",
    "\n",
    "hello('antonio') # arguments of a funciton, that are the information we are sending to our function  "
   ]
  },
  {
   "cell_type": "code",
   "execution_count": null,
   "metadata": {},
   "outputs": [],
   "source": [
    "name = 'antoniooo'\n",
    "hello(name)"
   ]
  },
  {
   "cell_type": "code",
   "execution_count": null,
   "metadata": {},
   "outputs": [],
   "source": [
    "def hello(first_name_1, last_name_1, age):\n",
    "    print('hello ' + first_name_1 + ' ' + last_name_1 + 'and your age is ' + str(age)) # remember the str conversion over age !\n",
    "\n",
    "hello('antonio','de patto', 22)\n",
    "\n",
    "# in order to work and do not give any error back, the number of paramenters specified by the function must be strictly respects when calling the function "
   ]
  },
  {
   "cell_type": "code",
   "execution_count": null,
   "metadata": {},
   "outputs": [],
   "source": [
    "# return statement = functions send Python values/objects back to the caller. These values/objects are known as the function's return value\n",
    "\n",
    "def multiply(number_1, number_2):\n",
    "    result = number_1 * number_2\n",
    "    return result\n",
    "\n",
    "multiply(6,8)"
   ]
  },
  {
   "cell_type": "code",
   "execution_count": null,
   "metadata": {},
   "outputs": [],
   "source": [
    "# keyword arguments = arguments proceded by an identifier when we pass them to a function. The order of the arguments doesn't matter, unlike positional\n",
    "# arguments Python knows the names of the arguments that our function receives\n",
    "\n",
    "def hello(first,middle,last):\n",
    "    print('hello ' + first + ' ' + middle + ' ' + last)\n",
    "\n",
    "hello(first = 'antonio', middle = 'de', last = 'patto') # we are using positional arguments because the order matter"
   ]
  },
  {
   "cell_type": "code",
   "execution_count": null,
   "metadata": {},
   "outputs": [],
   "source": [
    "# nasted function calls = functions calls inside other function calls. innermost functions calls are resolved first.\n",
    "# returned values is used as argument for the next outer function \n",
    "\n",
    "round(abs(float(input('enter a number: '))))"
   ]
  },
  {
   "cell_type": "code",
   "execution_count": null,
   "metadata": {},
   "outputs": [],
   "source": [
    "# scope = the region that a variable is recognized. a variable is only available form inside the region it is created.\n",
    "# a global and locally scoped versions of a variable can be created\n",
    "\n",
    "name = 'antonio' # global scope (available inside and outside the function)\n",
    "\n",
    "def display_name():\n",
    "    name = 'de patto'  # local scope (available only inside this function), so \n",
    "    print(name)\n",
    "\n",
    "display_name()\n",
    "\n",
    "# it is important to know that the function will firstly use the variable inside the funcion, than the global one will bi used if the inner one is missing \n",
    "\n",
    "# L E G B rules: LOCAL - ENCLOSING - GLOBAL - BULT IN"
   ]
  },
  {
   "cell_type": "code",
   "execution_count": null,
   "metadata": {},
   "outputs": [],
   "source": [
    "# args = parameter that will pack all arguments into a tuple useful so that a function can accept a varying amount of arguments\n",
    "\n",
    "def add(num1,num2):\n",
    "    sum = num1 + num2\n",
    "    return sum\n",
    "\n",
    "print(add(1,2,3,4,5)) # this is going to give an error back : add() takes 2 positional arguments but 5 were given"
   ]
  },
  {
   "cell_type": "code",
   "execution_count": null,
   "metadata": {},
   "outputs": [],
   "source": [
    "# we can solve the previous problem in that way:\n",
    "\n",
    "def add(*args):\n",
    "    sum = 0\n",
    "    for i in args:\n",
    "        sum += i\n",
    "    return sum\n",
    "\n",
    "print(add(1,2,3,4,5))"
   ]
  },
  {
   "cell_type": "code",
   "execution_count": null,
   "metadata": {},
   "outputs": [],
   "source": [
    "# **kwargs = parameter that will pack all argumets into a dictionary\n",
    "# useful so that a function can accept a varying amount of keyword arguments\n",
    "\n",
    "def hello(first, last):\n",
    "    print('hello ' + first + ' ' + last)\n",
    "\n",
    "hello(first = 'antonio', middle = 'de', last = 'patto') # hello() got an unexpected keyword argument 'middle'"
   ]
  },
  {
   "cell_type": "code",
   "execution_count": null,
   "metadata": {},
   "outputs": [],
   "source": [
    "# we can solve the previous problem in that way:\n",
    "\n",
    "def hello(**kwargs):\n",
    "    # print('hello ' + kwargs['first'] + ' ' +  kwargs['last'])\n",
    "    print('hello',  end = ' ')\n",
    "    for key,value in kwargs.items():\n",
    "        print(value, end = ' ')\n",
    "\n",
    "hello(title = 'Mr.', first = 'antonio', middle = 'de', last = 'patto') "
   ]
  },
  {
   "cell_type": "code",
   "execution_count": null,
   "metadata": {},
   "outputs": [],
   "source": [
    "# str.format() = optional method that gives users more control when displaying output\n",
    "\n",
    "animal = 'cow'\n",
    "item = 'moon'\n",
    "\n",
    "print('the ' + animal + ' jumped over the ' + item)\n",
    "\n",
    "print('the {} jumped over the {}'.format('cow', 'moon')) # {} are placeholders\n",
    "\n",
    "print('the {} jumped over the {}'.format(animal, item))\n",
    "\n",
    "print('the {1} jumped over the {0}'.format(animal, item)) # positional arguments"
   ]
  },
  {
   "cell_type": "code",
   "execution_count": null,
   "metadata": {},
   "outputs": [],
   "source": [
    "text = 'the {} jumped over the {}'\n",
    "\n",
    "print(text.format(animal, item))"
   ]
  },
  {
   "cell_type": "code",
   "execution_count": null,
   "metadata": {},
   "outputs": [],
   "source": [
    "name = 'antonio'\n",
    "\n",
    "print('hello my name is {}'.format(name))\n",
    "print('hello my name is {:10}. Nice to meet you'.format(name)) # i add 10 empy spaces after my name\n",
    "print('hello my name is {:>10}. Nice to meet you'.format(name)) \n",
    "print('hello my name is {:^10}. Nice to meet you'.format(name)) # allingn the text "
   ]
  },
  {
   "cell_type": "code",
   "execution_count": null,
   "metadata": {},
   "outputs": [],
   "source": [
    "number = 3.14159\n",
    "\n",
    "print('the numbe pi is {:.2f}'.format(number)) # .2f will display only the first two digits of my number \n",
    "\n",
    "number_1 = 100000\n",
    "print('the number is {:,}'.format(number_1))"
   ]
  },
  {
   "cell_type": "markdown",
   "metadata": {},
   "source": [
    "##### random package"
   ]
  },
  {
   "cell_type": "code",
   "execution_count": null,
   "metadata": {},
   "outputs": [],
   "source": [
    "import random \n",
    "\n",
    "x = random.randint(1,6) # we are going to generate a random integer between 1 and 6\n",
    "y = random.random() # we are going to generate a random float number\n",
    "\n",
    "mylist = ['rock', 'paper', 'scissors']\n",
    "z = random.choice(mylist)\n",
    "\n",
    "print(x)\n",
    "print(y)\n",
    "print(z)"
   ]
  },
  {
   "cell_type": "code",
   "execution_count": null,
   "metadata": {},
   "outputs": [],
   "source": [
    "cards = [1,2,3,4,5,6,7,8,9, 'J', 'Q', 'K', 'A']\n",
    "random.shuffle(cards)\n",
    "\n",
    "print(cards)"
   ]
  },
  {
   "cell_type": "markdown",
   "metadata": {},
   "source": [
    "##### exception"
   ]
  },
  {
   "cell_type": "code",
   "execution_count": null,
   "metadata": {},
   "outputs": [],
   "source": [
    "# exception = events detected during execution that interrupt the flow of a programm\n",
    "\n",
    "# in this case we would have an error if we try to divide 5 by 0, but with the exception we can disply a message instead of the error\n",
    "\n",
    "try:\n",
    "    numerator = int(input('enter the numerator '))\n",
    "    denominator = int(input('enter the denominator '))\n",
    "    result = numerator/denominator\n",
    "except ZeroDivisionError as e:\n",
    "    print(e)\n",
    "    print('you can not divide by zero')\n",
    "except ValueError as e:\n",
    "    print(e)\n",
    "    print('you have to insert a number not a string')\n",
    "except Exception as e:\n",
    "    print(e)\n",
    "    print('something went wrong')\n",
    "else:\n",
    "    print(result)\n",
    "finally:\n",
    "    print('this will always execute')"
   ]
  },
  {
   "cell_type": "markdown",
   "metadata": {},
   "source": [
    "##### file managing"
   ]
  },
  {
   "cell_type": "code",
   "execution_count": null,
   "metadata": {},
   "outputs": [],
   "source": [
    "import os \n",
    "\n",
    "path = \"C:\\\\Users\\\\adepa\\\\OneDrive\\\\Desktop\\\\Python_course\\\\text.txt.txt\"\n",
    "if os.path.exists(path):\n",
    "    print('that location exists')\n",
    "    if os.path.isfile(path):\n",
    "        print('that is a file')\n",
    "    elif os.path.isdir(path):\n",
    "        print('that is a directory')\n",
    "else:\n",
    "    print('the location does not exist')"
   ]
  },
  {
   "cell_type": "code",
   "execution_count": null,
   "metadata": {},
   "outputs": [],
   "source": [
    "try:\n",
    "    with open('C:\\\\Users\\\\adepa\\\\OneDrive\\\\Desktop\\\\Python_course\\\\text.txt.txt') as file:\n",
    "        print(file.read())\n",
    "except FileExistsError:\n",
    "    print('the file was not found')"
   ]
  },
  {
   "cell_type": "code",
   "execution_count": null,
   "metadata": {},
   "outputs": [],
   "source": [
    "text = 'ciao\\nquesto e un testo\\naddio' # where \\n create a new line\n",
    "\n",
    "with open('test.txt', 'w') as file: # 'w' stands for writing a file\n",
    "    file.write(text)"
   ]
  },
  {
   "cell_type": "code",
   "execution_count": null,
   "metadata": {},
   "outputs": [],
   "source": [
    "import shutil\n",
    "\n",
    "# copyfile() = copies contents of a file\n",
    "# copy() = copyfile() + permission mode + destination can be a directory\n",
    "# copy2() = copy() + copies metadata (file's creation and modification times)\n",
    "\n",
    "shutil.copyfile('C:\\\\Users\\\\adepa\\\\OneDrive\\\\Desktop\\\\Python_course\\\\text.txt.txt', 'copy.txt')\n"
   ]
  },
  {
   "cell_type": "code",
   "execution_count": null,
   "metadata": {},
   "outputs": [],
   "source": [
    "# module = a file containing python code. may contain functions, classes, etc.\n",
    "#          used with modular programming, which is to separate a program into parts\n",
    "\n",
    "import messages as msg\n",
    "\n",
    "msg.hello()\n",
    "msg.bye()"
   ]
  },
  {
   "cell_type": "code",
   "execution_count": null,
   "metadata": {},
   "outputs": [],
   "source": [
    "# another way to import a module is:\n",
    "\n",
    "from messages import hello, bye   # the functions of the module can be substitute with *\n",
    "\n",
    "hello()\n",
    "bye()"
   ]
  },
  {
   "cell_type": "markdown",
   "metadata": {},
   "source": [
    "##### rock, paper and scissors game "
   ]
  },
  {
   "cell_type": "code",
   "execution_count": null,
   "metadata": {},
   "outputs": [],
   "source": [
    "import random \n",
    "\n",
    "while True:\n",
    "    choices = ['rock', 'paper', 'scissors']\n",
    "\n",
    "    computer = random.choice(choices)\n",
    "    player = None\n",
    "\n",
    "    while player not in choices:\n",
    "        player = input('rock, paper or scissors?: ').lower()\n",
    "\n",
    "    if player == computer:   \n",
    "        print('computer: ', computer)\n",
    "        print('player: ', player)\n",
    "        print('tie')\n",
    "    elif player == 'rock':\n",
    "        if computer == 'paper':\n",
    "            print('computer: ', computer)\n",
    "            print('player: ', player)\n",
    "            print('player lose')\n",
    "        if computer == 'scissors':\n",
    "            print('computer: ', computer)\n",
    "            print('player: ', player)\n",
    "            print('player win')\n",
    "    elif player == 'scissors':\n",
    "        if computer == 'paper':\n",
    "            print('computer: ', computer)\n",
    "            print('player: ', player)\n",
    "            print('player win')\n",
    "        if computer == 'rock':\n",
    "            print('computer: ', computer)\n",
    "            print('player: ', player)\n",
    "            print('player lose')\n",
    "    elif player == 'paper':\n",
    "        if computer == 'rock':\n",
    "            print('computer: ', computer)\n",
    "            print('player: ', player)\n",
    "            print('player win')\n",
    "        if computer == 'scissors':\n",
    "            print('computer: ', computer)\n",
    "            print('player: ', player)\n",
    "            print('player lose')\n",
    "    \n",
    "    play_again = input('would you like to play again? yes or no? ').lower()\n",
    "    if play_again != 'yes':\n",
    "        break\n",
    "print('bye!')"
   ]
  },
  {
   "cell_type": "markdown",
   "metadata": {},
   "source": [
    "##### quiz"
   ]
  },
  {
   "cell_type": "code",
   "execution_count": null,
   "metadata": {},
   "outputs": [],
   "source": [
    "def new_game():\n",
    "    guesses = []\n",
    "    correct_guesses = 0\n",
    "    question_num = 1\n",
    "\n",
    "    for key in questions:\n",
    "        print('--------------------------------')\n",
    "        print(key)\n",
    "        for i in options[question_num - 1]: # question_num is used as a sort of counter, so since it is set equal to 1, we index it and subtract 1 \n",
    "                                            #so the computer will start counting from 0\n",
    "            print(i)\n",
    "        guess = input('enter (A,B,C or D)')\n",
    "        guess = guess.upper()\n",
    "        guesses.append(guess)\n",
    "\n",
    "        correct_guesses += check_answer(questions.get(key), guess)  # we are passing the correct answer and the guesses and the correct_guesses will increase \n",
    "                                                                    # by 1 if we made the right choice.\n",
    "                                                                    # with question.get() wi are going to get the values of the dictionary, so the correct answers !\n",
    "        question_num += 1 # in this way we can increase the counter by 1\n",
    "\n",
    "    display_score(correct_guesses, guesses)\n",
    "\n",
    "def check_answer(answer, guess):\n",
    "    \n",
    "    if answer == guess:\n",
    "        print('correct')\n",
    "        return 1\n",
    "    else: \n",
    "        print('wrong')\n",
    "        return 0\n",
    "\n",
    "def display_score(correct_guesses, guesses):\n",
    "    print('--------------------------------')\n",
    "    print('results')\n",
    "    print('--------------------------------')\n",
    "    print('answers: ', end = ' ')\n",
    "    \n",
    "    for i in questions:\n",
    "        print(questions.get(i), end = ' ')\n",
    "    print()\n",
    "\n",
    "    print('guesses ', end = ' ')\n",
    "    for i in guesses:\n",
    "        print(i, end = ' ')\n",
    "    print()\n",
    "\n",
    "    score = int((correct_guesses/len(questions)) * 100)\n",
    "    print('your score is ' + str(score) + ' %')\n",
    "\n",
    "def play_again():\n",
    "    \n",
    "    response = input('do you want to play again? yes or no?: ')\n",
    "    response = response.upper()\n",
    "\n",
    "    if response == 'YES':\n",
    "        return True\n",
    "    else:\n",
    "        return False\n",
    "\n",
    "questions = {\n",
    "'who created python?': 'A',\n",
    "'what year was python created?':'B',\n",
    "'is the earth round?': 'A'\n",
    "}\n",
    "\n",
    "options = [\n",
    "    ['A.Guido van rossum','B.Tizio', 'C.Caio','D.Sempronio'],\n",
    "    ['A.1898','B.1991','C.785','D.1596'],\n",
    "    ['A.true','B.false']]\n",
    "\n",
    "new_game() # we can begin a new game \n",
    "\n",
    "while play_again():\n",
    "    new_game()\n",
    "\n",
    "print('bye!')"
   ]
  },
  {
   "cell_type": "markdown",
   "metadata": {},
   "source": [
    "##### oop"
   ]
  },
  {
   "cell_type": "code",
   "execution_count": null,
   "metadata": {},
   "outputs": [],
   "source": [
    "# object = instance of a class\n",
    "\n",
    "from car import Car\n",
    "\n",
    "car_1 = Car('chevy', 'corvette', '2021', 'blue')\n",
    "\n",
    "print(car_1.make)\n",
    "print(car_1.model)\n",
    "print(car_1.year)\n",
    "print(car_1.color)\n",
    "\n",
    "car_1.drive()\n",
    "car_1.stop()"
   ]
  },
  {
   "cell_type": "code",
   "execution_count": null,
   "metadata": {},
   "outputs": [],
   "source": [
    "car_2 = Car('ford', 'mustang', '2022', 'red')\n",
    "\n",
    "print(car_2.make)\n",
    "print(car_2.model)\n",
    "print(car_2.year)\n",
    "print(car_2.color)\n",
    "\n",
    "car_2 .drive()\n",
    "car_2 .stop()"
   ]
  },
  {
   "cell_type": "code",
   "execution_count": null,
   "metadata": {},
   "outputs": [],
   "source": [
    "car_1.wheels = 2\n",
    "\n",
    "print(Car.wheels)\n",
    "\n",
    "print(car_1.wheels)\n",
    "print(car_2.wheels)"
   ]
  },
  {
   "cell_type": "code",
   "execution_count": null,
   "metadata": {},
   "outputs": [],
   "source": [
    "class Animal:\n",
    "\n",
    "    alive = True\n",
    "\n",
    "    def eat(self):   # remember the self !\n",
    "        print('this animal is eating')\n",
    "\n",
    "    def sleep(self):\n",
    "        print('this animal is sleeping')\n",
    "\n",
    "\n",
    "class Rabbit(Animal):# so rabbit is the child class and animal is the parent one. the class rabbit is going to inherit everything \n",
    "                      # that the class animal has \n",
    "    def run(self):\n",
    "        print('this rabbit can run')\n",
    "\n",
    "\n",
    "class Fish(Animal):\n",
    "    def swim(self):\n",
    "        print('this fish can swim')\n",
    "\n",
    "\n",
    "class Hawk(Animal):\n",
    "    def fly(self):\n",
    "        print('this fish can fly')\n",
    "\n",
    "rabbit = Rabbit()\n",
    "fish = Fish()\n",
    "hawk = Hawk()\n",
    "\n",
    "rabbit.run()\n",
    "fish.swim()\n",
    "hawk.fly()\n",
    "\n",
    "# so all the animal are alive and all of them eat and sleep, so this characteristics will be inherit by all the animals.\n",
    "# instead only the rabbit can run, the fish swim and the hawk fly, so all the single animals will have thei own characteristics"
   ]
  },
  {
   "cell_type": "code",
   "execution_count": null,
   "metadata": {},
   "outputs": [],
   "source": [
    "class Organism: # PARENT CLASS\n",
    "\n",
    "    alive = True\n",
    "\n",
    "\n",
    "class Animal(Organism): # CHILD CLASS OF ORGANISM\n",
    "    def eat(self):\n",
    "        print('this animal is eating')\n",
    "\n",
    "class Dog(Animal): # SUB CHILD CLASS OF ANIMAL \n",
    "    def bark(self):\n",
    "        print('this dog is barking')\n",
    "\n",
    "\n",
    "dog = Dog()\n",
    "dog.alive\n",
    "dog.eat()\n",
    "dog.bark()\n"
   ]
  },
  {
   "cell_type": "code",
   "execution_count": null,
   "metadata": {},
   "outputs": [],
   "source": [
    "class Prey:\n",
    "\n",
    "    def flee(self):\n",
    "        print(\"This animal flees\")\n",
    "\n",
    "class Predator:\n",
    "\n",
    "    def hunt(self):\n",
    "        print(\"This animal is hunting\")\n",
    "\n",
    "class Rabbit(Prey):\n",
    "    pass\n",
    "\n",
    "class Hawk(Predator):\n",
    "    pass\n",
    "\n",
    "class Fish(Prey, Predator):\n",
    "    pass\n",
    "\n",
    "\n",
    "rabbit = Rabbit()\n",
    "hawk = Hawk()\n",
    "fish = Fish()\n",
    "\n",
    "rabbit.flee()\n",
    "hawk.hunt()\n",
    "fish.flee()\n",
    "fish.hunt()"
   ]
  },
  {
   "cell_type": "code",
   "execution_count": null,
   "metadata": {},
   "outputs": [],
   "source": [
    "# method overrigind = the eat function in the rabbit class will print the the more specific phrase instead of the more general one the animal class\n",
    "\n",
    "class Animal:\n",
    "\n",
    "    def eat(self):\n",
    "        print('this animal is eating')\n",
    "\n",
    "class Rabbit(Animal):\n",
    "    \n",
    "    def eat(self):\n",
    "        print('this rabbit is eating a carrot')\n",
    "\n",
    "rabbit = Rabbit()\n",
    "rabbit.eat()"
   ]
  },
  {
   "cell_type": "code",
   "execution_count": null,
   "metadata": {},
   "outputs": [],
   "source": [
    "# method chaining = calling multiple methods sequentially\n",
    "                    # each call performs an action on the same object and returns self\n",
    "\n",
    "class Car:\n",
    "\n",
    "    def turn_on(self):\n",
    "        print('you turn on the engine')\n",
    "        return self\n",
    "\n",
    "    def drive(self):\n",
    "        print('you are driving')\n",
    "        return self\n",
    "\n",
    "    def brake(self):\n",
    "        print('you step on the brakes')\n",
    "        return self\n",
    "    \n",
    "    def turn_off(self):\n",
    "        print('you turn off the engine')\n",
    "        return self\n",
    "\n",
    "car = Car()\n",
    "\n",
    "car.turn_on()\\\n",
    "    .drive()\\\n",
    "    .brake()\\\n",
    "    .turn_off()"
   ]
  },
  {
   "cell_type": "code",
   "execution_count": null,
   "metadata": {},
   "outputs": [],
   "source": [
    "# super() = function used to give access to the methods of a parent class\n",
    "          # returns a temporary object of a parent class when used \n",
    "\n",
    "class Rectangle: # SUPER CLASS\n",
    "\n",
    "    def __init__(self, length, width):  # lenght and width are common to the both the child classes\n",
    "        self.length = length\n",
    "        self.width = width\n",
    "\n",
    "class Square(Rectangle):\n",
    "\n",
    "    def __init__(self, length, width):\n",
    "        super().__init__(length,width)\n",
    "\n",
    "    def area(self):\n",
    "        return self.length*self.width\n",
    "\n",
    "class Cube(Rectangle):\n",
    "\n",
    "    def __init__(self, length, width, height):\n",
    "        super().__init__(length,width)\n",
    "        self.height = height  # difference between quare and cube classes, so we need to keep it\n",
    "\n",
    "    def volume(self):\n",
    "        return self.length*self.width*self.height\n",
    "\n",
    "\n",
    "square = Square(3, 3)\n",
    "cube = Cube(3, 3, 3)\n",
    "\n",
    "print(square.area())\n",
    "print(cube.volume())"
   ]
  },
  {
   "cell_type": "code",
   "execution_count": null,
   "metadata": {},
   "outputs": [],
   "source": [
    "# abstract class = prevents a user from creating an object of that class. it's like a ghost class\n",
    "# plus compels a user to override abstract methods in a child class\n",
    "\n",
    "# abstract class = a class wich contains one or more abstract methods\n",
    "# abstract method = a method that has a decleration but does not have an implementation !\n",
    "\n",
    "# we would like to create an obkect from a specific kind of vehicle, but we would like to prevent to create this objects from the\n",
    "# vehicle class because it is too generic. we can do this by crating an abstract class\n",
    "\n",
    "from abc import ABC, abstractmethod   # abc = abstract based class\n",
    "\n",
    "class Vehicle(ABC):\n",
    "\n",
    "    @abstractmethod\n",
    "    def go(self):\n",
    "        pass\n",
    "\n",
    "    @abstractmethod\n",
    "    def stop(self):\n",
    "        pass\n",
    "\n",
    "class Car(Vehicle):\n",
    "\n",
    "    def go(self):\n",
    "        print(\"You drive the car\")\n",
    "\n",
    "    def stop(self):\n",
    "        print(\"This car is stopped\")\n",
    "\n",
    "class Motorcycle(Vehicle):\n",
    "\n",
    "    def go(self):\n",
    "        print(\"You ride the motorcycle\")\n",
    "\n",
    "    def stop(self):\n",
    "        print(\"This motorcycle is stopped\")\n",
    "\n",
    "\n",
    "#vehicle = Vehicle()\n",
    "car = Car()\n",
    "motorcycle = Motorcycle()\n",
    "\n",
    "#vehicle.go()\n",
    "car.go()\n",
    "motorcycle.go()\n",
    "\n",
    "#vehicle.stop()\n",
    "car.stop()\n",
    "motorcycle.stop()"
   ]
  },
  {
   "cell_type": "code",
   "execution_count": null,
   "metadata": {},
   "outputs": [],
   "source": [
    "class Car:\n",
    "\n",
    "    color = None\n",
    "\n",
    "class Motorcycle:\n",
    "\n",
    "    color = None\n",
    "\n",
    "def change_color(vehicle, color):\n",
    "    vehicle.color = color\n",
    "\n",
    "car_1 = Car()\n",
    "car_2 = Car()\n",
    "car_3 = Car()\n",
    "\n",
    "bike_1 = Motorcycle()\n",
    "\n",
    "change_color(car_1, 'white')\n",
    "change_color(car_2, 'red')\n",
    "change_color(car_3, 'blue')\n",
    "\n",
    "change_color(bike_1, 'green'), \n",
    "\n",
    "print(car_1.color)\n",
    "print(car_2.color)\n",
    "print(car_3.color)\n",
    "\n",
    "print(bike_1.color)\n",
    "\n",
    "# so in conclusion, we can pass objects as argumets of a function based on the required attributes of the function "
   ]
  },
  {
   "cell_type": "code",
   "execution_count": null,
   "metadata": {},
   "outputs": [],
   "source": [
    "names = ['David', 'Esther', 'Frank']\n",
    "\n",
    "result = []\n",
    "\n",
    "for s in names:\n",
    "    t = s[::-1].capitalize()\n",
    "    result.append(t)\n",
    "\n",
    "result"
   ]
  },
  {
   "cell_type": "code",
   "execution_count": null,
   "metadata": {},
   "outputs": [],
   "source": [
    "names = ['David', 'Esther', 'Frank']\n",
    "\n",
    "names"
   ]
  },
  {
   "cell_type": "markdown",
   "metadata": {},
   "source": [
    "### data science part"
   ]
  },
  {
   "cell_type": "code",
   "execution_count": null,
   "metadata": {},
   "outputs": [],
   "source": [
    "a,b,c,d,e = 1,2,5.0,7,'9'\n",
    "print(a,b,c,d,e)"
   ]
  },
  {
   "cell_type": "code",
   "execution_count": null,
   "metadata": {},
   "outputs": [],
   "source": [
    "10/4  # normal division "
   ]
  },
  {
   "cell_type": "code",
   "execution_count": null,
   "metadata": {},
   "outputs": [],
   "source": [
    "10//4 # floor division. it basically cuts of the part after the period"
   ]
  },
  {
   "cell_type": "code",
   "execution_count": null,
   "metadata": {},
   "outputs": [],
   "source": [
    "# Most of the time you’ll use the modulo operator with integers. The modul operator, when used with two positive integers,\n",
    "# will return the remainder of standard Euclidean division:\n",
    "\n",
    "15 % 4 # this will give 3 back because the remainder is 3.75"
   ]
  },
  {
   "cell_type": "code",
   "execution_count": null,
   "metadata": {},
   "outputs": [],
   "source": [
    "_ # underscore gives back what python has in memory"
   ]
  },
  {
   "cell_type": "code",
   "execution_count": null,
   "metadata": {},
   "outputs": [],
   "source": [
    "# a single = is used to assign a data to a variable --> assign operator\n",
    "# a double == is used to check if tow variables are equal or not\n",
    "\n",
    "d = 3 == 4\n",
    "print(d)"
   ]
  },
  {
   "cell_type": "code",
   "execution_count": null,
   "metadata": {},
   "outputs": [],
   "source": [
    "3 == 3.0"
   ]
  },
  {
   "cell_type": "code",
   "execution_count": null,
   "metadata": {},
   "outputs": [],
   "source": [
    "True or False"
   ]
  },
  {
   "cell_type": "code",
   "execution_count": null,
   "metadata": {},
   "outputs": [],
   "source": [
    "False and True"
   ]
  },
  {
   "cell_type": "code",
   "execution_count": null,
   "metadata": {},
   "outputs": [],
   "source": [
    "True or False and False # and will be applied first ant then or will be applied"
   ]
  },
  {
   "cell_type": "code",
   "execution_count": null,
   "metadata": {},
   "outputs": [],
   "source": [
    "print((not(2!=3) and True) or (False and True))\n",
    "\n",
    "# explaination: not(True) and True ie equal to False and True that is False\n",
    "# also the second part is False, so False or False is False"
   ]
  },
  {
   "cell_type": "markdown",
   "metadata": {},
   "source": [
    "##### functions"
   ]
  },
  {
   "cell_type": "code",
   "execution_count": null,
   "metadata": {},
   "outputs": [],
   "source": [
    "# round() function rounds the input value to a specified number of places or to the nearest integer\n",
    "\n",
    "print(round(5.6312))\n",
    "print(round(4.15465, 3)) # after the comma go 3 places forward and then round the third number based on the fourth digit"
   ]
  },
  {
   "cell_type": "code",
   "execution_count": null,
   "metadata": {},
   "outputs": [],
   "source": [
    "# divmod(x,y) outputs the quotient and the remainder in a tuple\n",
    "\n",
    "divmod(27,5)"
   ]
  },
  {
   "cell_type": "code",
   "execution_count": null,
   "metadata": {},
   "outputs": [],
   "source": [
    "# we can obtain the separately by:\n",
    "\n",
    "print(27 // 5)\n",
    "print(27 % 5)"
   ]
  },
  {
   "cell_type": "code",
   "execution_count": null,
   "metadata": {},
   "outputs": [],
   "source": [
    "# isinstance() returns True if the first argument is an instance of that class. Multiple classes can also be checked at once\n",
    "\n",
    "print(isinstance(1, int))\n",
    "print(isinstance(1.0, int))\n",
    "print(isinstance(1, (int, float)))"
   ]
  },
  {
   "cell_type": "code",
   "execution_count": 46,
   "metadata": {},
   "outputs": [
    {
     "name": "stdout",
     "output_type": "stream",
     "text": [
      "a: 4\n",
      "b: 7\n",
      "a is smaller than b\n"
     ]
    }
   ],
   "source": [
    "a = int(input('enter a number: '))\n",
    "b = int(input('enter a number: '))\n",
    "\n",
    "if a > b:\n",
    "    print('a: ' + str(a))\n",
    "    print('b: ' + str(b))\n",
    "    print('a is grater than b')\n",
    "elif a < b:\n",
    "    print('a: ' + str(a))\n",
    "    print('b: ' + str(b))\n",
    "    print('a is smaller than b')\n",
    "else: # this else part will be executed only if the other if and elif are False\n",
    "    print('a and b are equal')"
   ]
  },
  {
   "cell_type": "code",
   "execution_count": 65,
   "metadata": {},
   "outputs": [
    {
     "name": "stdout",
     "output_type": "stream",
     "text": [
      "x is grater than 10\n",
      "x is also grater than 20\n",
      "but not grater that 30\n",
      "this is not in any if condition\n"
     ]
    }
   ],
   "source": [
    "x = int(input('enter a number: '))\n",
    "\n",
    "if x > 10:\n",
    "    print('x is grater than 10')\n",
    "    if x > 20: # this part will be executed only if the previous if condition is true\n",
    "        print('x is also grater than 20')\n",
    "    else: \n",
    "        print('but not grater that 20')\n",
    "    if x > 30: # this part will be executed only if the previous if condition is true\n",
    "        print('x is also grater than 30')\n",
    "    else: \n",
    "        print('but not grater that 30')\n",
    "else:\n",
    "    print('x is not grater than 10')\n",
    "print('this is not in any if condition')"
   ]
  }
 ],
 "metadata": {
  "kernelspec": {
   "display_name": "Python 3",
   "language": "python",
   "name": "python3"
  },
  "language_info": {
   "codemirror_mode": {
    "name": "ipython",
    "version": 3
   },
   "file_extension": ".py",
   "mimetype": "text/x-python",
   "name": "python",
   "nbconvert_exporter": "python",
   "pygments_lexer": "ipython3",
   "version": "3.12.1"
  }
 },
 "nbformat": 4,
 "nbformat_minor": 2
}
